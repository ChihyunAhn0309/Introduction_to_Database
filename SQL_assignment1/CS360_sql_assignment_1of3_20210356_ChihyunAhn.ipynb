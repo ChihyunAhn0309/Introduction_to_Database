{
  "nbformat": 4,
  "nbformat_minor": 0,
  "metadata": {
    "colab": {
      "provenance": [],
      "include_colab_link": true
    },
    "kernelspec": {
      "name": "python3",
      "display_name": "Python 3"
    },
    "language_info": {
      "name": "python"
    }
  },
  "cells": [
    {
      "cell_type": "markdown",
      "metadata": {
        "id": "view-in-github",
        "colab_type": "text"
      },
      "source": [
        "<a href=\"https://colab.research.google.com/github/ChihyunAhn0309/Introduction_to_Database/blob/main/SQL_assignment1/CS360_sql_assignment_1of3_20210356_ChihyunAhn.ipynb\" target=\"_parent\"><img src=\"https://colab.research.google.com/assets/colab-badge.svg\" alt=\"Open In Colab\"/></a>"
      ]
    },
    {
      "cell_type": "markdown",
      "source": [
        "**NOTE: Distributing or uploading this course material to a public repository (e.g., GitHub) is strictly prohibited.**"
      ],
      "metadata": {
        "id": "TLf3PCpOvhus"
      }
    },
    {
      "cell_type": "markdown",
      "source": [
        "## **Database Creation**\n",
        "\n",
        "We want to implement an OpenCourseWare service using SQLite3. For this purpose, we will create the following four tables:\n",
        "\n",
        "-  `\"kmooc_instructor\"` - instructor information\n",
        "-  `\"kmooc_course\"` - course information\n",
        "-  `\"kmooc_learningpath\"` - learning path (or curriculum) information\n",
        "-  `\"kmooc_learningpath_courses\"` - mapping between courses to learning paths\n",
        "\n",
        "The given 'create_database_proj1.sql' file contains the definition of the schema and a sample set of the tuples. You can download it from [here](https://drive.google.com/file/d/14CQij12d4CHjlnkS-bGTkTBTOyfc0I3l/view?usp=sharing).\n",
        "\n",
        "Please see the file for detailed schema.\n",
        "\n",
        "We will implement several core modules of the service."
      ],
      "metadata": {
        "id": "o_zJTcIMOWh5"
      }
    },
    {
      "cell_type": "code",
      "source": [
        "from google.colab import drive\n",
        "drive.mount('/content/drive')"
      ],
      "metadata": {
        "colab": {
          "base_uri": "https://localhost:8080/"
        },
        "id": "OpcaGkkQO-EA",
        "outputId": "71610281-2e26-4501-ec2a-68e5f5654ab8"
      },
      "execution_count": 8,
      "outputs": [
        {
          "output_type": "stream",
          "name": "stdout",
          "text": [
            "Mounted at /content/drive\n"
          ]
        }
      ]
    },
    {
      "cell_type": "code",
      "source": [
        "import sqlite3\n",
        "\n",
        "conn = sqlite3.connect('kmooc.sqlite3')\n",
        "cur = conn.cursor()\n",
        "\n",
        "\n",
        "# Enter your solution here\n",
        "# Execute the SQL statements in 'create_database_proj1.sql'.\n",
        "# First, upload the file on your Google Drive folder.\n",
        "# If you placed this file in the 'MyDrive' folder, its path is '/content/drive/MyDrive/create_database_proj1.sql'.\n",
        "proj1_sql_path = '/content/drive/MyDrive/create_database_proj1.sql'\n",
        "\n",
        "with open(proj1_sql_path, 'r', encoding = 'utf-8') as f:\n",
        "  proj1_sql_script = f.read()\n",
        "\n",
        "cur.executescript(proj1_sql_script)\n",
        "\n",
        "conn.commit()\n",
        "conn.close()"
      ],
      "metadata": {
        "id": "tMBPg0yaAhPm"
      },
      "execution_count": 9,
      "outputs": []
    },
    {
      "cell_type": "markdown",
      "source": [
        "## **Module 1**\n",
        "\n",
        "We need to extract the top 10 highest rated courses from this database.\n",
        "\n",
        "Create a query that will join the tables `\"kmooc_course\"` and `\"kmooc_instructor\"` (LEFT JOIN) and extract the top 10 courses (*rating* column of the `\"kmooc_course\"` table).\n",
        "\n",
        "Display the following columns in the output table:\n",
        "\n",
        "- *title* (`\"kmooc_course\"` table)\n",
        "- *rating* (`\"kmooc_course\"` table)\n",
        "- *instructor* - concatenation of the *first_name* and *last_name* columns with a space character (`\"kmooc_instructor\"` table)\n",
        "\n",
        "Sort the output table in the descending order of the *rating* column.\n",
        "\n",
        "Note that the third column is made by concatenating the *first_name* and *last_name* columns.\n",
        "\n",
        "**Format**:\n",
        ">```('course_title', course_rating, 'first_name last_name')```<br>\n",
        ">...\n",
        "\n",
        "Print the result using the code cell below."
      ],
      "metadata": {
        "id": "UboZNCSbIJn9"
      }
    },
    {
      "cell_type": "code",
      "source": [
        "import sqlite3\n",
        "\n",
        "conn = sqlite3.connect('kmooc.sqlite3')\n",
        "cur = conn.cursor()\n",
        "\n",
        "\n",
        "# Enter your solution here\n",
        "# Your result should be in the form of the below print output\n",
        "# Delete the below print after your enter your solution\n",
        "\n",
        "query = \"\"\"\n",
        "SELECT title, rating, first_name||' '||last_name AS instructor\n",
        "\n",
        "FROM \"kmooc_course\"\n",
        "LEFT JOIN kmooc_instructor\n",
        "  ON kmooc_course.instructor_id = kmooc_instructor.id\n",
        "\n",
        "ORDER BY rating DESC\n",
        "\n",
        "LIMIT 10;\n",
        "\"\"\"\n",
        "\n",
        "cur.execute(query)\n",
        "result = cur.fetchall()\n",
        "\n",
        "for row in result:\n",
        "  print(row)\n",
        "\n",
        "conn.commit()\n",
        "conn.close()"
      ],
      "metadata": {
        "id": "WUuWRZwxJBEl",
        "colab": {
          "base_uri": "https://localhost:8080/"
        },
        "outputId": "5400bb0b-e137-4aeb-a601-15d16a937bc7"
      },
      "execution_count": 63,
      "outputs": [
        {
          "output_type": "stream",
          "name": "stdout",
          "text": [
            "('SQL Bootcamp - SQLite Databases - Part IV', 5.0, 'James Smith')\n",
            "('100+ Exercises - Advanced Python Programming', 5.0, 'James Smith')\n",
            "('150+ Exercises - Data Structures in Python - Hands-On', 5.0, 'James Smith')\n",
            "('150+ Exercises - Object Oriented Programming in C++ - OOP', 5.0, 'Mary Brown')\n",
            "('Accessing Databases using Python', 5.0, 'Rav Ahuja')\n",
            "('150+ Exercises - Object Oriented Programming in Python - OOP', 4.92, 'James Smith')\n",
            "('Machine Learning Bootcamp in Python Part II - from A to Z', 4.89, 'James Smith')\n",
            "('250+ Exercises - Data Science Bootcamp in Python', 4.89, 'James Smith')\n",
            "('Artificial Intelligence - Computer Vision in Python', 4.87, 'James Smith')\n",
            "('Machine Learning Bootcamp in Python Part III - Exercises', 4.87, 'James Smith')\n"
          ]
        }
      ]
    },
    {
      "cell_type": "markdown",
      "source": [
        "## **Module 2**\n",
        "\n",
        "We need to extract all the names of the learning paths with the names of the courses included in the path and the subcategory of each component course (see below).\n",
        "\n",
        "Display the following columns in the output table:\n",
        "\n",
        "- *title* column from `\"kmooc_learningpath\"` table, aliased as `\"path_title\"`\n",
        "- *title* column from `\"kmooc_course\"` table, aliased as `\"course_title\"`\n",
        "- *subcategory* column from the `\"kmooc_course\"` table\n",
        "\n",
        "Sort the output table in the ascending order of the *path_title* and *course_title* columns. Limit the result to the first 10 records.\n",
        "\n",
        "**Format**:\n",
        ">```('path_title', 'course_title', 'course_subcategory')```<br>\n",
        ">...\n",
        "\n",
        "Print the result using the code cell below."
      ],
      "metadata": {
        "id": "Fc-TocDrJFPU"
      }
    },
    {
      "cell_type": "code",
      "source": [
        "import sqlite3\n",
        "\n",
        "conn = sqlite3.connect('kmooc.sqlite3')\n",
        "cur = conn.cursor()\n",
        "\n",
        "# Enter your solution here\n",
        "# Your result should be in the form of the below print output\n",
        "# Delete the below print after your enter your solution\n",
        "query = \"\"\"\n",
        "SELECT kmooc_learningpath.title AS path_title, kmooc_course.title AS course_title, subcategory\n",
        "\n",
        "FROM kmooc_learningpath_courses\n",
        "JOIN kmooc_learningpath\n",
        "  ON kmooc_learningpath_courses.learningpath_id = kmooc_learningpath.id\n",
        "JOIN kmooc_course\n",
        "  ON kmooc_learningpath_courses.course_id = kmooc_course.id\n",
        "\n",
        "ORDER BY path_title ASC, course_title ASC\n",
        "\n",
        "LIMIT 10;\n",
        "\"\"\"\n",
        "\n",
        "result = cur.execute(query)\n",
        "for row in result:\n",
        "  print(row)\n",
        "\n",
        "\n",
        "conn.commit()\n",
        "conn.close()"
      ],
      "metadata": {
        "id": "lqGtl0QgJtAk",
        "colab": {
          "base_uri": "https://localhost:8080/"
        },
        "outputId": "5ee1a774-7ff9-4d76-8cd7-4b300aae9957"
      },
      "execution_count": 43,
      "outputs": [
        {
          "output_type": "stream",
          "name": "stdout",
          "text": [
            "('Databases and SQL for Data Science with Python', 'Accessing Databases using Python', 'database design & development')\n",
            "('Databases and SQL for Data Science with Python', 'Getting Started with SQL', 'database design & development')\n",
            "('Databases and SQL for Data Science with Python', 'Intermediate SQL', 'database design & development')\n",
            "('Databases and SQL for Data Science with Python', 'Introduction to Relational Databases and Tables', 'database design & development')\n",
            "('Databases and SQL for Data Science with Python', 'SQL Bootcamp - Hands-On Exercises - SQLite - Part I', 'database design & development')\n",
            "('Databases and SQL for Data Science with Python', 'SQL Bootcamp - Hands-On Exercises - SQLite - Part II', 'database design & development')\n",
            "('Path All-in-One', '100+ Exercises - Advanced Python Programming', 'programming languages')\n",
            "('Path All-in-One', '120+ Exercises in Python - Data Science - NumPy', 'data science')\n",
            "('Path All-in-One', '130+ Exercises in Python - Data Science - Pandas', 'data science')\n",
            "('Path All-in-One', '150+ Exercises - Object Oriented Programming in C++ - OOP', 'programming languages')\n"
          ]
        }
      ]
    },
    {
      "cell_type": "markdown",
      "source": [
        "## **Module 3**\n",
        "\n",
        "We need to extract all the names of the learning paths with the number of courses in each path (see below).\n",
        "\n",
        "Display the following columns in the output table:\n",
        "\n",
        "- *title* column from `\"kmooc_learningpath\"` table, aliased as `\"path_title\"`\n",
        "- *num_courses* - the number of courses for a given path\n",
        "\n",
        "Sort the output table in the descending order of the *num_courses* column.\n",
        "\n",
        "**Format**:\n",
        ">```('path_title', num_courses)```<br>\n",
        ">...\n",
        "\n",
        "Print the result using the code cell below."
      ],
      "metadata": {
        "id": "x8KIoiwjJM_f"
      }
    },
    {
      "cell_type": "code",
      "source": [
        "import sqlite3\n",
        "\n",
        "conn = sqlite3.connect('kmooc.sqlite3')\n",
        "cur = conn.cursor()\n",
        "\n",
        "# Enter your solution here\n",
        "# Your result should be in the form of the below print output\n",
        "# Delete the below print after your enter your solution\n",
        "query = \"\"\"\n",
        "SELECT kmooc_learningpath.title AS path_title, COUNT(kmooc_learningpath_courses.course_id) AS num_courses\n",
        "\n",
        "FROM kmooc_learningpath, kmooc_learningpath_courses\n",
        "\n",
        "WHERE kmooc_learningpath.id = kmooc_learningpath_courses.learningpath_id\n",
        "\n",
        "GROUP BY path_title\n",
        "\n",
        "ORDER BY num_courses DESC;\n",
        "\"\"\"\n",
        "\n",
        "result = cur.execute(query)\n",
        "for row in result:\n",
        "  print(row)\n",
        "\n",
        "\n",
        "conn.commit()\n",
        "conn.close()"
      ],
      "metadata": {
        "id": "eaBOOB0hKOgU",
        "colab": {
          "base_uri": "https://localhost:8080/"
        },
        "outputId": "1618754b-1899-4bd9-98b6-1bbb6a7f73e2"
      },
      "execution_count": 71,
      "outputs": [
        {
          "output_type": "stream",
          "name": "stdout",
          "text": [
            "('Path Big Data Analyst', 6)\n",
            "('Path Data Scientist / Machine Learning Engineer', 5)\n",
            "('Path C Developer', 3)\n",
            "('Path Python Developer', 2)\n",
            "('Path Data Scientist / Deep Learning Engineer', 2)\n",
            "('Path C++ Developer', 2)\n",
            "('Path BI Analyst / Data Analyst', 2)\n",
            "('Path All-in-One', 2)\n",
            "('Databases and SQL for Data Science with Python', 2)\n"
          ]
        }
      ]
    },
    {
      "cell_type": "markdown",
      "source": [
        "## **Module 4**\n",
        "\n",
        "We need to extract all the names of the learning paths with the names of the courses included in the path and the name of each course's instructor (see below).\n",
        "\n",
        "Display the following columns in the output table:\n",
        "\n",
        "- *title* column from `\"kmooc_learningpath\"` table, aliased as `\"path_title\"`\n",
        "- *title* column from `\"kmooc_course\"` table, aliased as `\"course_title\"`\n",
        "- *instructor* - concatenation of the *first_name* and *last_name* columns with a space character (`\"kmooc_instructor\"` table)\n",
        "\n",
        "Sort the output table in the ascending order of the *path_title* and *course_title* columns. Limit the result to the first 10 records.\n",
        "\n",
        "**Format**:\n",
        ">```('path_title', 'course_title', 'first_name last_name')```<br>\n",
        ">...\n",
        "\n",
        "Print the result using the code cell below."
      ],
      "metadata": {
        "id": "0iVBCh9oJPfH"
      }
    },
    {
      "cell_type": "code",
      "source": [
        "import sqlite3\n",
        "\n",
        "conn = sqlite3.connect('kmooc.sqlite3')\n",
        "cur = conn.cursor()\n",
        "\n",
        "# Enter your solution here\n",
        "# Your result should be in the form of the below print output\n",
        "# Delete the below print after your enter your solution\n",
        "\n",
        "query = \"\"\"\n",
        "SELECT kmooc_learningpath.title AS path_title, kmooc_course.title AS course_title, first_name||' '||last_name AS instructor\n",
        "\n",
        "FROM kmooc_learningpath_courses\n",
        "JOIN kmooc_learningpath\n",
        "  ON kmooc_learningpath.id = kmooc_learningpath_courses.learningpath_id\n",
        "JOIN kmooc_course\n",
        "  ON kmooc_course.id = kmooc_learningpath_courses.course_id\n",
        "JOIN kmooc_instructor\n",
        "  ON kmooc_instructor.id = kmooc_course.instructor_id\n",
        "\n",
        "ORDER BY path_title, course_title ASC\n",
        "\n",
        "LIMIT 10;\n",
        "\"\"\"\n",
        "\n",
        "result = cur.execute(query)\n",
        "for row in result:\n",
        "  print(row)\n",
        "\n",
        "\n",
        "conn.commit()\n",
        "conn.close()"
      ],
      "metadata": {
        "id": "0LqfsJcAKol2",
        "colab": {
          "base_uri": "https://localhost:8080/"
        },
        "outputId": "9530abcb-2a3e-48ec-d612-5287976563c0"
      },
      "execution_count": 62,
      "outputs": [
        {
          "output_type": "stream",
          "name": "stdout",
          "text": [
            "('Databases and SQL for Data Science with Python', 'Accessing Databases using Python', 'Rav Ahuja')\n",
            "('Databases and SQL for Data Science with Python', 'Getting Started with SQL', 'Rav Ahuja')\n",
            "('Databases and SQL for Data Science with Python', 'Intermediate SQL', 'Rav Ahuja')\n",
            "('Databases and SQL for Data Science with Python', 'Introduction to Relational Databases and Tables', 'Rav Ahuja')\n",
            "('Databases and SQL for Data Science with Python', 'SQL Bootcamp - Hands-On Exercises - SQLite - Part I', 'James Smith')\n",
            "('Databases and SQL for Data Science with Python', 'SQL Bootcamp - Hands-On Exercises - SQLite - Part II', 'James Smith')\n",
            "('Path All-in-One', '100+ Exercises - Advanced Python Programming', 'James Smith')\n",
            "('Path All-in-One', '120+ Exercises in Python - Data Science - NumPy', 'James Smith')\n",
            "('Path All-in-One', '130+ Exercises in Python - Data Science - Pandas', 'James Smith')\n",
            "('Path All-in-One', '150+ Exercises - Object Oriented Programming in C++ - OOP', 'Mary Brown')\n"
          ]
        }
      ]
    },
    {
      "cell_type": "markdown",
      "source": [
        "## **Module 5**\n",
        "\n",
        "We need to extract the number of courses for each instructor in all learning paths.\n",
        "\n",
        "Display the following columns in the output table:\n",
        "\n",
        " - *title* column from `\"kmooc_learningpath\"` table, aliased as `\"path_title\"`\n",
        " - *instructor* - concatenation of the *first_name* and *last_name* columns with a space character (`\"kmooc_instructor\"` table)\n",
        " - *num_courses* - number of courses per instructor in the given learning path\n",
        "\n",
        "Sort the output table in the ascending order of the *path_title* and *instructor* columns.\n",
        "\n",
        "\n",
        "**Format**:\n",
        ">```('path_title', 'first_name last_name', num_courses)```<br>\n",
        ">...\n",
        "\n",
        "Print the result using the code cell below."
      ],
      "metadata": {
        "id": "dx0Qk95cJUIF"
      }
    },
    {
      "cell_type": "code",
      "source": [
        "import sqlite3\n",
        "\n",
        "conn = sqlite3.connect('kmooc.sqlite3')\n",
        "cur = conn.cursor()\n",
        "\n",
        "# Enter your solution here\n",
        "# Your result should be in the form of the below print output\n",
        "# Delete the below print after your enter your solution\n",
        "\n",
        "query = \"\"\"\n",
        "SELECT kmooc_learningpath.title AS path_title, first_name||' '||last_name AS instructor, COUNT(kmooc_course.id) AS num_courses\n",
        "\n",
        "FROM kmooc_learningpath_courses\n",
        "JOIN kmooc_learningpath\n",
        "  ON kmooc_learningpath.id = kmooc_learningpath_courses.learningpath_id\n",
        "JOIN kmooc_course\n",
        "  ON kmooc_course.id = kmooc_learningpath_courses.course_id\n",
        "JOIN kmooc_instructor\n",
        "  ON kmooc_course.instructor_id = kmooc_instructor.id\n",
        "\n",
        "GROUP BY path_title, kmooc_instructor.id\n",
        "\n",
        "ORDER BY path_title, instructor ASC;\n",
        "\"\"\"\n",
        "\n",
        "result = cur.execute(query)\n",
        "for row in result:\n",
        "  print(row)\n",
        "\n",
        "conn.commit()\n",
        "conn.close()"
      ],
      "metadata": {
        "id": "swRw5HblLJk-",
        "colab": {
          "base_uri": "https://localhost:8080/"
        },
        "outputId": "b16df59a-45b4-4f1c-acac-c6db33c213fc"
      },
      "execution_count": 67,
      "outputs": [
        {
          "output_type": "stream",
          "name": "stdout",
          "text": [
            "('Databases and SQL for Data Science with Python', 'James Smith', 2)\n",
            "('Databases and SQL for Data Science with Python', 'Rav Ahuja', 4)\n",
            "('Path All-in-One', 'James Smith', 25)\n",
            "('Path All-in-One', 'Mary Brown', 5)\n",
            "('Path BI Analyst / Data Analyst', 'James Smith', 15)\n",
            "('Path Big Data Analyst', 'James Smith', 13)\n",
            "('Path C Developer', 'Mary Brown', 2)\n",
            "('Path C++ Developer', 'Mary Brown', 3)\n",
            "('Path Data Scientist / Deep Learning Engineer', 'James Smith', 21)\n",
            "('Path Data Scientist / Machine Learning Engineer', 'James Smith', 19)\n",
            "('Path Python Developer', 'James Smith', 8)\n"
          ]
        }
      ]
    },
    {
      "cell_type": "markdown",
      "source": [
        "## **Module 6**\n",
        "\n",
        "We need to extract the number of courses at the category, sub-category, and instructor levels (see below).\n",
        "\n",
        "Display the following columns in the output table:\n",
        "\n",
        " - *category* column from the `\"kmooc_course\"` table\n",
        " - *subcategory* column from the `\"kmooc_course\"` table\n",
        " - *instructo*r - concatenation of the *first_name* and *last_name* columns with a space character (`\"kmooc_instructor\"` table)\n",
        " - *num_courses* - number of courses per *category*, *subcategory* and *instructor*\n",
        "\n",
        "Sort the output table in the descending order of the *num_courses* column.\n",
        "\n",
        "**Format**:\n",
        ">```('category', 'subcategory', 'first_name last_name', num_courses)```<br>\n",
        ">...\n",
        "\n",
        "Print the result using the code cell below."
      ],
      "metadata": {
        "id": "cSjEK7ozJVXZ"
      }
    },
    {
      "cell_type": "code",
      "source": [
        "import sqlite3\n",
        "\n",
        "conn = sqlite3.connect('kmooc.sqlite3')\n",
        "cur = conn.cursor()\n",
        "\n",
        "# Enter your solution here\n",
        "# Your result should be in the form of the below print output\n",
        "# Delete the below print after your enter your solution\n",
        "\n",
        "query = \"\"\"\n",
        "SELECT category, subcategory, first_name||' '||last_name AS instructor, COUNT(kmooc_course.id) AS num_courses\n",
        "\n",
        "FROM kmooc_course\n",
        "JOIN kmooc_instructor\n",
        "  ON kmooc_instructor.id = kmooc_course.instructor_id\n",
        "\n",
        "GROUP BY category, subcategory, instructor\n",
        "\n",
        "ORDER BY num_courses DESC;\n",
        "\"\"\"\n",
        "\n",
        "result = cur.execute(query)\n",
        "for row in result:\n",
        "  print(row)\n",
        "\n",
        "conn.commit()\n",
        "conn.close()"
      ],
      "metadata": {
        "id": "3NeSdDt2MijY",
        "colab": {
          "base_uri": "https://localhost:8080/"
        },
        "outputId": "c929c8c8-144f-4c5a-a0c4-1939a8f34406"
      },
      "execution_count": 77,
      "outputs": [
        {
          "output_type": "stream",
          "name": "stdout",
          "text": [
            "('development', 'programming languages', 'James Smith', 18)\n",
            "('development', 'data science', 'James Smith', 14)\n",
            "('development', 'database design & development', 'James Smith', 7)\n",
            "('development', 'programming languages', 'Mary Brown', 5)\n",
            "('development', 'database design & development', 'Rav Ahuja', 4)\n",
            "('development', 'web development', 'James Smith', 1)\n"
          ]
        }
      ]
    }
  ]
}
